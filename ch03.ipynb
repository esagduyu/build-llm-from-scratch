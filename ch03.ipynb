{
 "cells": [
  {
   "cell_type": "markdown",
   "id": "1066763f-5ef0-4199-9471-1e18cb933116",
   "metadata": {},
   "source": [
    "# Chapter 3 - Coding attention mechanisms"
   ]
  }
 ],
 "metadata": {
  "kernelspec": {
   "display_name": "llm",
   "language": "python",
   "name": "llm"
  },
  "language_info": {
   "codemirror_mode": {
    "name": "ipython",
    "version": 3
   },
   "file_extension": ".py",
   "mimetype": "text/x-python",
   "name": "python",
   "nbconvert_exporter": "python",
   "pygments_lexer": "ipython3",
   "version": "3.12.3"
  }
 },
 "nbformat": 4,
 "nbformat_minor": 5
}
